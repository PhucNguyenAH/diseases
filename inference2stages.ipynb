{
 "cells": [
  {
   "attachments": {},
   "cell_type": "markdown",
   "metadata": {},
   "source": [
    "# Deep Learning"
   ]
  },
  {
   "cell_type": "code",
   "execution_count": 1,
   "metadata": {},
   "outputs": [
    {
     "name": "stderr",
     "output_type": "stream",
     "text": [
      "/home/hoangphuc/miniconda3/envs/gene/lib/python3.10/site-packages/tqdm/auto.py:22: TqdmWarning: IProgress not found. Please update jupyter and ipywidgets. See https://ipywidgets.readthedocs.io/en/stable/user_install.html\n",
      "  from .autonotebook import tqdm as notebook_tqdm\n"
     ]
    }
   ],
   "source": [
    "import numpy as np\n",
    "import pandas as pd\n",
    "import seaborn as sns\n",
    "import matplotlib.pyplot as plt\n",
    "\n",
    "from models import Bin, Five\n",
    "import torch\n",
    "from torch.utils.data import Dataset, DataLoader\n",
    "import onnxruntime as ort"
   ]
  },
  {
   "cell_type": "code",
   "execution_count": 2,
   "metadata": {},
   "outputs": [
    {
     "name": "stdout",
     "output_type": "stream",
     "text": [
      "Load model control or diseases\n",
      "f1 score:  1.0\n",
      "Load model five diseases\n",
      "f1 score:  0.7308513708513709\n",
      "Exported graph: graph(%gene : Float(1, 8630, strides=[8630, 1], requires_grad=0, device=cuda:0),\n",
      "      %fc1.weight : Float(8192, 8630, strides=[8630, 1], requires_grad=1, device=cuda:0),\n",
      "      %fc1.bias : Float(8192, strides=[1], requires_grad=1, device=cuda:0),\n",
      "      %layer_out.weight : Float(2, 8192, strides=[8192, 1], requires_grad=1, device=cuda:0),\n",
      "      %layer_out.bias : Float(2, strides=[1], requires_grad=1, device=cuda:0),\n",
      "      %batchnorm1.weight : Float(8192, strides=[1], requires_grad=1, device=cuda:0),\n",
      "      %batchnorm1.bias : Float(8192, strides=[1], requires_grad=1, device=cuda:0),\n",
      "      %batchnorm1.running_mean : Float(8192, strides=[1], requires_grad=0, device=cuda:0),\n",
      "      %batchnorm1.running_var : Float(8192, strides=[1], requires_grad=0, device=cuda:0)):\n",
      "  %/fc1/Gemm_output_0 : Float(1, 8192, strides=[8192, 1], requires_grad=1, device=cuda:0) = onnx::Gemm[alpha=1., beta=1., transB=1, onnx_name=\"/fc1/Gemm\"](%gene, %fc1.weight, %fc1.bias), scope: models.Bin::/torch.nn.modules.linear.Linear::fc1 # /home/hoangphuc/miniconda3/envs/gene/lib/python3.10/site-packages/torch/nn/modules/linear.py:114:0\n",
      "  %/batchnorm1/BatchNormalization_output_0 : Float(1, 8192, strides=[8192, 1], requires_grad=1, device=cuda:0) = onnx::BatchNormalization[epsilon=1.0000000000000001e-05, momentum=0.90000000000000002, training_mode=0, onnx_name=\"/batchnorm1/BatchNormalization\"](%/fc1/Gemm_output_0, %batchnorm1.weight, %batchnorm1.bias, %batchnorm1.running_mean, %batchnorm1.running_var), scope: models.Bin::/torch.nn.modules.batchnorm.BatchNorm1d::batchnorm1 # /home/hoangphuc/miniconda3/envs/gene/lib/python3.10/site-packages/torch/nn/functional.py:2435:0\n",
      "  %/Relu_output_0 : Float(1, 8192, strides=[8192, 1], requires_grad=1, device=cuda:0) = onnx::Relu[onnx_name=\"/Relu\"](%/batchnorm1/BatchNormalization_output_0), scope: models.Bin:: # /home/hoangphuc/miniconda3/envs/gene/lib/python3.10/site-packages/torch/nn/functional.py:1453:0\n",
      "  %/layer_out/Gemm_output_0 : Float(1, 2, strides=[2, 1], requires_grad=1, device=cuda:0) = onnx::Gemm[alpha=1., beta=1., transB=1, onnx_name=\"/layer_out/Gemm\"](%/Relu_output_0, %layer_out.weight, %layer_out.bias), scope: models.Bin::/torch.nn.modules.linear.Linear::layer_out # /home/hoangphuc/miniconda3/envs/gene/lib/python3.10/site-packages/torch/nn/modules/linear.py:114:0\n",
      "  %result : Float(1, 2, strides=[2, 1], requires_grad=1, device=cuda:0) = onnx::LogSoftmax[axis=-1, onnx_name=\"/LogSoftmax\"](%/layer_out/Gemm_output_0), scope: models.Bin:: # /home/hoangphuc/miniconda3/envs/gene/lib/python3.10/site-packages/torch/nn/functional.py:1927:0\n",
      "  return (%result)\n",
      "\n",
      "Exported graph: graph(%gene : Float(1, 8630, strides=[8630, 1], requires_grad=0, device=cuda:0),\n",
      "      %fc1.weight : Float(8192, 8630, strides=[8630, 1], requires_grad=1, device=cuda:0),\n",
      "      %fc1.bias : Float(8192, strides=[1], requires_grad=1, device=cuda:0),\n",
      "      %fc2.weight : Float(1024, 8192, strides=[8192, 1], requires_grad=1, device=cuda:0),\n",
      "      %fc2.bias : Float(1024, strides=[1], requires_grad=1, device=cuda:0),\n",
      "      %fc3.weight : Float(128, 1024, strides=[1024, 1], requires_grad=1, device=cuda:0),\n",
      "      %fc3.bias : Float(128, strides=[1], requires_grad=1, device=cuda:0),\n",
      "      %layer_out.weight : Float(5, 128, strides=[128, 1], requires_grad=1, device=cuda:0),\n",
      "      %layer_out.bias : Float(5, strides=[1], requires_grad=1, device=cuda:0),\n",
      "      %batchnorm1.weight : Float(8192, strides=[1], requires_grad=1, device=cuda:0),\n",
      "      %batchnorm1.bias : Float(8192, strides=[1], requires_grad=1, device=cuda:0),\n",
      "      %batchnorm1.running_mean : Float(8192, strides=[1], requires_grad=0, device=cuda:0),\n",
      "      %batchnorm1.running_var : Float(8192, strides=[1], requires_grad=0, device=cuda:0),\n",
      "      %batchnorm2.weight : Float(1024, strides=[1], requires_grad=1, device=cuda:0),\n",
      "      %batchnorm2.bias : Float(1024, strides=[1], requires_grad=1, device=cuda:0),\n",
      "      %batchnorm2.running_mean : Float(1024, strides=[1], requires_grad=0, device=cuda:0),\n",
      "      %batchnorm2.running_var : Float(1024, strides=[1], requires_grad=0, device=cuda:0),\n",
      "      %batchnorm3.weight : Float(128, strides=[1], requires_grad=1, device=cuda:0),\n",
      "      %batchnorm3.bias : Float(128, strides=[1], requires_grad=1, device=cuda:0),\n",
      "      %batchnorm3.running_mean : Float(128, strides=[1], requires_grad=0, device=cuda:0),\n",
      "      %batchnorm3.running_var : Float(128, strides=[1], requires_grad=0, device=cuda:0)):\n",
      "  %/fc1/Gemm_output_0 : Float(1, 8192, strides=[8192, 1], requires_grad=1, device=cuda:0) = onnx::Gemm[alpha=1., beta=1., transB=1, onnx_name=\"/fc1/Gemm\"](%gene, %fc1.weight, %fc1.bias), scope: models.Five::/torch.nn.modules.linear.Linear::fc1 # /home/hoangphuc/miniconda3/envs/gene/lib/python3.10/site-packages/torch/nn/modules/linear.py:114:0\n",
      "  %/batchnorm1/BatchNormalization_output_0 : Float(1, 8192, strides=[8192, 1], requires_grad=1, device=cuda:0) = onnx::BatchNormalization[epsilon=1.0000000000000001e-05, momentum=0.90000000000000002, training_mode=0, onnx_name=\"/batchnorm1/BatchNormalization\"](%/fc1/Gemm_output_0, %batchnorm1.weight, %batchnorm1.bias, %batchnorm1.running_mean, %batchnorm1.running_var), scope: models.Five::/torch.nn.modules.batchnorm.BatchNorm1d::batchnorm1 # /home/hoangphuc/miniconda3/envs/gene/lib/python3.10/site-packages/torch/nn/functional.py:2435:0\n",
      "  %/Relu_output_0 : Float(1, 8192, strides=[8192, 1], requires_grad=1, device=cuda:0) = onnx::Relu[onnx_name=\"/Relu\"](%/batchnorm1/BatchNormalization_output_0), scope: models.Five:: # /home/hoangphuc/miniconda3/envs/gene/lib/python3.10/site-packages/torch/nn/functional.py:1453:0\n",
      "  %/fc2/Gemm_output_0 : Float(1, 1024, strides=[1024, 1], requires_grad=1, device=cuda:0) = onnx::Gemm[alpha=1., beta=1., transB=1, onnx_name=\"/fc2/Gemm\"](%/Relu_output_0, %fc2.weight, %fc2.bias), scope: models.Five::/torch.nn.modules.linear.Linear::fc2 # /home/hoangphuc/miniconda3/envs/gene/lib/python3.10/site-packages/torch/nn/modules/linear.py:114:0\n",
      "  %/batchnorm2/BatchNormalization_output_0 : Float(1, 1024, strides=[1024, 1], requires_grad=1, device=cuda:0) = onnx::BatchNormalization[epsilon=1.0000000000000001e-05, momentum=0.90000000000000002, training_mode=0, onnx_name=\"/batchnorm2/BatchNormalization\"](%/fc2/Gemm_output_0, %batchnorm2.weight, %batchnorm2.bias, %batchnorm2.running_mean, %batchnorm2.running_var), scope: models.Five::/torch.nn.modules.batchnorm.BatchNorm1d::batchnorm2 # /home/hoangphuc/miniconda3/envs/gene/lib/python3.10/site-packages/torch/nn/functional.py:2435:0\n",
      "  %/Relu_1_output_0 : Float(1, 1024, strides=[1024, 1], requires_grad=1, device=cuda:0) = onnx::Relu[onnx_name=\"/Relu_1\"](%/batchnorm2/BatchNormalization_output_0), scope: models.Five:: # /home/hoangphuc/miniconda3/envs/gene/lib/python3.10/site-packages/torch/nn/functional.py:1453:0\n",
      "  %/fc3/Gemm_output_0 : Float(1, 128, strides=[128, 1], requires_grad=1, device=cuda:0) = onnx::Gemm[alpha=1., beta=1., transB=1, onnx_name=\"/fc3/Gemm\"](%/Relu_1_output_0, %fc3.weight, %fc3.bias), scope: models.Five::/torch.nn.modules.linear.Linear::fc3 # /home/hoangphuc/miniconda3/envs/gene/lib/python3.10/site-packages/torch/nn/modules/linear.py:114:0\n",
      "  %/batchnorm3/BatchNormalization_output_0 : Float(1, 128, strides=[128, 1], requires_grad=1, device=cuda:0) = onnx::BatchNormalization[epsilon=1.0000000000000001e-05, momentum=0.90000000000000002, training_mode=0, onnx_name=\"/batchnorm3/BatchNormalization\"](%/fc3/Gemm_output_0, %batchnorm3.weight, %batchnorm3.bias, %batchnorm3.running_mean, %batchnorm3.running_var), scope: models.Five::/torch.nn.modules.batchnorm.BatchNorm1d::batchnorm3 # /home/hoangphuc/miniconda3/envs/gene/lib/python3.10/site-packages/torch/nn/functional.py:2435:0\n",
      "  %/Relu_2_output_0 : Float(1, 128, strides=[128, 1], requires_grad=1, device=cuda:0) = onnx::Relu[onnx_name=\"/Relu_2\"](%/batchnorm3/BatchNormalization_output_0), scope: models.Five:: # /home/hoangphuc/miniconda3/envs/gene/lib/python3.10/site-packages/torch/nn/functional.py:1453:0\n",
      "  %/layer_out/Gemm_output_0 : Float(1, 5, strides=[5, 1], requires_grad=1, device=cuda:0) = onnx::Gemm[alpha=1., beta=1., transB=1, onnx_name=\"/layer_out/Gemm\"](%/Relu_2_output_0, %layer_out.weight, %layer_out.bias), scope: models.Five::/torch.nn.modules.linear.Linear::layer_out # /home/hoangphuc/miniconda3/envs/gene/lib/python3.10/site-packages/torch/nn/modules/linear.py:114:0\n",
      "  %result : Float(1, 5, strides=[5, 1], requires_grad=1, device=cuda:0) = onnx::LogSoftmax[axis=-1, onnx_name=\"/LogSoftmax\"](%/layer_out/Gemm_output_0), scope: models.Five:: # /home/hoangphuc/miniconda3/envs/gene/lib/python3.10/site-packages/torch/nn/functional.py:1927:0\n",
      "  return (%result)\n",
      "\n"
     ]
    }
   ],
   "source": [
    "checkpoint_bin = \"checkpoints/ckp_bin.pt\"\n",
    "checkpoint_last_bin = \"checkpoints/ckp_bin_last.pt\"\n",
    "checkpoint_five = \"checkpoints/ckp_five.pt\"\n",
    "checkpoint_last_five = \"checkpoints/ckp_five_last.pt\"\n",
    "modelBin = Bin()\n",
    "checkpoint_dict = torch.load(checkpoint_bin, map_location='cpu')\n",
    "print(\"Load model control or diseases\")\n",
    "modelBin.load_state_dict(checkpoint_dict['net'])\n",
    "modelBin.to('cuda:0')\n",
    "print(\"f1 score: \", checkpoint_dict['f1'])\n",
    "\n",
    "modelFive = Five()\n",
    "checkpoint_dict = torch.load(checkpoint_five, map_location='cpu')\n",
    "print(\"Load model five diseases\")\n",
    "modelFive.load_state_dict(checkpoint_dict['net'])\n",
    "modelFive.to('cuda:0')\n",
    "print(\"f1 score: \", checkpoint_dict['f1'])\n",
    "\n",
    "input_names = [\"gene\"]\n",
    "output_names = [\"result\"]\n",
    "dummy = torch.randn(1,8630, device='cuda')\n",
    "modelBin.eval()\n",
    "torch.onnx.export(modelBin, dummy, \"checkpoints/Bin.onnx\", input_names=input_names, output_names=output_names, verbose=True)\n",
    "\n",
    "modelFive.eval()\n",
    "torch.onnx.export(modelFive, dummy, \"checkpoints/Five.onnx\", input_names=input_names, output_names=output_names, verbose=True)"
   ]
  },
  {
   "cell_type": "code",
   "execution_count": 3,
   "metadata": {},
   "outputs": [
    {
     "name": "stderr",
     "output_type": "stream",
     "text": [
      "/home/hoangphuc/miniconda3/envs/gene/lib/python3.10/site-packages/onnxruntime/capi/onnxruntime_inference_collection.py:54: UserWarning: Specified provider 'CUDAExecutionProvider' is not in available provider names.Available providers: 'CPUExecutionProvider'\n",
      "  warnings.warn(\n"
     ]
    }
   ],
   "source": [
    "ckp_bin = \"checkpoints/Bin.onnx\"\n",
    "ckp_five = \"checkpoints/Five.onnx\"\n",
    "\n",
    "class2idxBin = {\n",
    "    \"control\":0,\n",
    "    \"diseases\":1,\n",
    "}\n",
    "\n",
    "idx2classBin = {v: k for k, v in class2idxBin.items()}\n",
    "\n",
    "class2idxFive = {\n",
    "    \"CRC\":0,\n",
    "    \"Lung\":1,\n",
    "    \"Gastric\":2,\n",
    "    \"Liver\":3,\n",
    "    \"Breast\":4\n",
    "}\n",
    "\n",
    "idx2classFive = {v: k for k, v in class2idxFive.items()}\n",
    "\n",
    "class2idxSix = {\n",
    "    \"CRC\":0,\n",
    "    \"Control\":1,\n",
    "    \"Lung\":2,\n",
    "    \"Gastric\":3,\n",
    "    \"Liver\":4,\n",
    "    \"Breast\":5\n",
    "}\n",
    "\n",
    "idx2classSix = {v: k for k, v in class2idxSix.items()}\n",
    "\n",
    "testloader = []\n",
    "\n",
    "with open('data/val_bin.npy', 'rb') as f:\n",
    "    x_test0 = np.load(f)\n",
    "with open('data/val_bin_target.npy', 'rb') as f:\n",
    "    y_test0 = np.load(f)\n",
    "\n",
    "with open('data/test_bin.npy', 'rb') as f:\n",
    "    x_test1 = np.load(f)\n",
    "with open('data/test_bin_target.npy', 'rb') as f:\n",
    "    y_test1 = np.load(f)\n",
    "\n",
    "x_test_bin = np.concatenate([x_test0, x_test1])\n",
    "y_test_bin = np.concatenate([y_test0, y_test1])\n",
    "\n",
    "with open('data/val_five.npy', 'rb') as f:\n",
    "    x_test0 = np.load(f)\n",
    "with open('data/val_five_target.npy', 'rb') as f:\n",
    "    y_test0 = np.load(f)\n",
    "\n",
    "with open('data/test_five.npy', 'rb') as f:\n",
    "    x_test1 = np.load(f)\n",
    "with open('data/test_five_target.npy', 'rb') as f:\n",
    "    y_test1 = np.load(f)\n",
    "\n",
    "x_test_five = np.concatenate([x_test0, x_test1])\n",
    "y_test_five = np.concatenate([y_test0, y_test1])\n",
    "\n",
    "x_test = x_test_five.copy()\n",
    "y_test = y_test_five.copy()\n",
    "\n",
    "for i,v in enumerate(y_test_five):\n",
    "    if v > 0:\n",
    "        y_test[i] += 1\n",
    "\n",
    "for i,v in enumerate(y_test_bin):\n",
    "    if v == 0:\n",
    "        np.vstack([x_test, x_test_bin[i]])\n",
    "        y_test = np.append(y_test, 1)\n",
    "\n",
    "randomize = np.arange(len(x_test))\n",
    "np.random.shuffle(randomize)\n",
    "x_test = x_test[randomize]\n",
    "y_test = y_test[randomize]\n",
    "x_test = np.array(x_test, np.float32)\n",
    "\n",
    "class ClassifierDataset(Dataset):\n",
    "    \n",
    "    def __init__(self, X_data, y_data):\n",
    "        self.X_data = X_data\n",
    "        self.y_data = y_data\n",
    "        \n",
    "    def __getitem__(self, index):\n",
    "        return self.X_data[index], self.y_data[index]\n",
    "        \n",
    "    def __len__ (self):\n",
    "        return len(self.X_data)\n",
    "\n",
    "\n",
    "test_dataset = ClassifierDataset(torch.from_numpy(x_test).float(), torch.from_numpy(y_test).long())\n",
    "\n",
    "testloader = DataLoader(dataset=test_dataset, batch_size=1)\n",
    "\n",
    "cuda=True\n",
    "providers = ['CUDAExecutionProvider', 'CPUExecutionProvider'] if cuda else ['CPUExecutionProvider']\n",
    "sessionbin = ort.InferenceSession(ckp_bin, providers=providers)\n",
    "sessionfive = ort.InferenceSession(ckp_five, providers=providers)\n"
   ]
  },
  {
   "cell_type": "code",
   "execution_count": 4,
   "metadata": {},
   "outputs": [
    {
     "data": {
      "text/plain": [
       "['gene']"
      ]
     },
     "execution_count": 4,
     "metadata": {},
     "output_type": "execute_result"
    }
   ],
   "source": [
    "inname = [i.name for i in sessionbin.get_inputs()]\n",
    "inname"
   ]
  },
  {
   "cell_type": "code",
   "execution_count": 5,
   "metadata": {},
   "outputs": [
    {
     "data": {
      "text/plain": [
       "['result']"
      ]
     },
     "execution_count": 5,
     "metadata": {},
     "output_type": "execute_result"
    }
   ],
   "source": [
    "outname = [i.name for i in sessionbin.get_outputs()]\n",
    "outname"
   ]
  },
  {
   "cell_type": "code",
   "execution_count": 6,
   "metadata": {},
   "outputs": [
    {
     "name": "stdout",
     "output_type": "stream",
     "text": [
      "[[0.43747813 0.4488727  0.6117503  ... 0.63823336 0.44232342 0.51017886]]\n",
      "3\n",
      "result: Gastric\n"
     ]
    }
   ],
   "source": [
    "idx = 30\n",
    "x = np.expand_dims(x_test[idx], axis=0)\n",
    "print(x)\n",
    "print(y_test[idx])\n",
    "print(\"result:\", idx2classSix[y_test[idx]])"
   ]
  },
  {
   "cell_type": "code",
   "execution_count": 7,
   "metadata": {},
   "outputs": [
    {
     "name": "stdout",
     "output_type": "stream",
     "text": [
      "Control or disease:  diseases\n",
      "diseases:  Gastric\n"
     ]
    }
   ],
   "source": [
    "x = np.expand_dims(x_test[idx], axis=0)\n",
    "\n",
    "out = sessionbin.run(outname,{'gene':x})\n",
    "result = np.argmax(out)\n",
    "print(\"Control or disease: \",idx2classBin[result])\n",
    "if result == 1:\n",
    "    out = sessionfive.run(outname,{'gene':x})\n",
    "    result = np.argmax(out)\n",
    "    print(\"diseases: \",idx2classFive[result])\n"
   ]
  },
  {
   "attachments": {},
   "cell_type": "markdown",
   "metadata": {},
   "source": [
    "# Machine Learning"
   ]
  },
  {
   "cell_type": "code",
   "execution_count": 8,
   "metadata": {},
   "outputs": [],
   "source": [
    "import pickle\n",
    "import numpy as np\n",
    "import pandas as pd\n",
    "import seaborn as sns\n",
    "from sklearn.metrics import accuracy_score, confusion_matrix, classification_report, f1_score"
   ]
  },
  {
   "cell_type": "code",
   "execution_count": 9,
   "metadata": {},
   "outputs": [],
   "source": [
    "# load the model from disk\n",
    "filename = 'checkpoints/ml_svm_bin.sav'\n",
    "svm_bin = pickle.load(open(filename, 'rb'))\n",
    "filename = 'checkpoints/ml_rf_bin.sav'\n",
    "rf_bin = pickle.load(open(filename, 'rb'))\n",
    "filename = 'checkpoints/ml_knn_bin.sav'\n",
    "knn_bin = pickle.load(open(filename, 'rb'))\n",
    "\n",
    "filename = 'checkpoints/ml_svm_five.sav'\n",
    "svm_five = pickle.load(open(filename, 'rb'))\n",
    "filename = 'checkpoints/ml_rf_five.sav'\n",
    "rf_five = pickle.load(open(filename, 'rb'))\n",
    "filename = 'checkpoints/ml_knn_five.sav'\n",
    "knn_five = pickle.load(open(filename, 'rb'))\n",
    "\n",
    "class2idxBin = {\n",
    "    \"control\":0,\n",
    "    \"diseases\":1,\n",
    "}\n",
    "\n",
    "idx2classBin = {v: k for k, v in class2idxBin.items()}\n",
    "\n",
    "class2idxFive = {\n",
    "    \"CRC\":0,\n",
    "    \"Lung\":1,\n",
    "    \"Gastric\":2,\n",
    "    \"Liver\":3,\n",
    "    \"Breast\":4\n",
    "}\n",
    "\n",
    "idx2classFive = {v: k for k, v in class2idxFive.items()}\n",
    "\n",
    "class2idxSix = {\n",
    "    \"CRC\":0,\n",
    "    \"Control\":1,\n",
    "    \"Lung\":2,\n",
    "    \"Gastric\":3,\n",
    "    \"Liver\":4,\n",
    "    \"Breast\":5\n",
    "}\n",
    "\n",
    "idx2classSix = {v: k for k, v in class2idxSix.items()}\n",
    "\n",
    "testloader = []\n",
    "\n",
    "with open('data/val_bin.npy', 'rb') as f:\n",
    "    x_test0 = np.load(f)\n",
    "with open('data/val_bin_target.npy', 'rb') as f:\n",
    "    y_test0 = np.load(f)\n",
    "\n",
    "with open('data/test_bin.npy', 'rb') as f:\n",
    "    x_test1 = np.load(f)\n",
    "with open('data/test_bin_target.npy', 'rb') as f:\n",
    "    y_test1 = np.load(f)\n",
    "\n",
    "x_test_bin = np.concatenate([x_test0, x_test1])\n",
    "y_test_bin = np.concatenate([y_test0, y_test1])\n",
    "\n",
    "with open('data/val_five.npy', 'rb') as f:\n",
    "    x_test0 = np.load(f)\n",
    "with open('data/val_five_target.npy', 'rb') as f:\n",
    "    y_test0 = np.load(f)\n",
    "\n",
    "with open('data/test_five.npy', 'rb') as f:\n",
    "    x_test1 = np.load(f)\n",
    "with open('data/test_five_target.npy', 'rb') as f:\n",
    "    y_test1 = np.load(f)\n",
    "\n",
    "x_test_five = np.concatenate([x_test0, x_test1])\n",
    "y_test_five = np.concatenate([y_test0, y_test1])\n",
    "\n",
    "x_test = x_test_five.copy()\n",
    "y_test = y_test_five.copy()\n",
    "for i,v in enumerate(y_test_five):\n",
    "    if v > 0:\n",
    "        y_test[i] += 1\n",
    "\n",
    "for i,v in enumerate(y_test_bin):\n",
    "    if v == 0:\n",
    "        np.vstack([x_test, x_test_bin[i]])\n",
    "        y_test = np.append(y_test, 1)\n",
    "\n",
    "randomize = np.arange(len(x_test))\n",
    "np.random.shuffle(randomize)\n",
    "x_test = x_test[randomize]\n",
    "y_test = y_test[randomize]"
   ]
  },
  {
   "cell_type": "code",
   "execution_count": 10,
   "metadata": {},
   "outputs": [
    {
     "name": "stdout",
     "output_type": "stream",
     "text": [
      "[[0.34826578 0.30206029 0.57796861 ... 0.42200554 0.34917635 0.37751871]]\n",
      "5\n",
      "result: Breast\n"
     ]
    }
   ],
   "source": [
    "idx = 0\n",
    "x = np.expand_dims(x_test[idx], axis=0)\n",
    "print(x)\n",
    "print(y_test[idx])\n",
    "print(\"result:\", idx2classSix[y_test[idx]])"
   ]
  },
  {
   "cell_type": "code",
   "execution_count": 11,
   "metadata": {},
   "outputs": [
    {
     "name": "stdout",
     "output_type": "stream",
     "text": [
      "Control or disease:  diseases\n",
      "diseases:  Breast\n"
     ]
    }
   ],
   "source": [
    "x = np.expand_dims(x_test[idx], axis=0)\n",
    "\n",
    "result = svm_bin.predict(x)[0]\n",
    "print(\"Control or disease: \",idx2classBin[result])\n",
    "if result == 1:\n",
    "    result = svm_five.predict(x)[0]\n",
    "    print(\"diseases: \",idx2classFive[result])"
   ]
  },
  {
   "cell_type": "code",
   "execution_count": 12,
   "metadata": {},
   "outputs": [
    {
     "name": "stdout",
     "output_type": "stream",
     "text": [
      "Control or disease:  diseases\n",
      "diseases:  Breast\n"
     ]
    }
   ],
   "source": [
    "x = np.expand_dims(x_test[idx], axis=0)\n",
    "\n",
    "result = rf_bin.predict(x)[0]\n",
    "print(\"Control or disease: \",idx2classBin[result])\n",
    "if result == 1:\n",
    "    result = rf_five.predict(x)[0]\n",
    "    print(\"diseases: \",idx2classFive[result])"
   ]
  },
  {
   "cell_type": "code",
   "execution_count": 13,
   "metadata": {},
   "outputs": [
    {
     "name": "stdout",
     "output_type": "stream",
     "text": [
      "Control or disease:  diseases\n",
      "diseases:  Breast\n"
     ]
    }
   ],
   "source": [
    "x = np.expand_dims(x_test[idx], axis=0)\n",
    "\n",
    "result = knn_bin.predict(x)[0]\n",
    "print(\"Control or disease: \",idx2classBin[result])\n",
    "if result == 1:\n",
    "    result = knn_five.predict(x)[0]\n",
    "    print(\"diseases: \",idx2classFive[result])"
   ]
  },
  {
   "cell_type": "code",
   "execution_count": null,
   "metadata": {},
   "outputs": [],
   "source": []
  }
 ],
 "metadata": {
  "kernelspec": {
   "display_name": "gene",
   "language": "python",
   "name": "python3"
  },
  "language_info": {
   "codemirror_mode": {
    "name": "ipython",
    "version": 3
   },
   "file_extension": ".py",
   "mimetype": "text/x-python",
   "name": "python",
   "nbconvert_exporter": "python",
   "pygments_lexer": "ipython3",
   "version": "3.10.8"
  },
  "orig_nbformat": 4,
  "vscode": {
   "interpreter": {
    "hash": "205c7536512ca85286303e1792d1d7d3dc0c3b1a27495f74475fd2a04bf7c734"
   }
  }
 },
 "nbformat": 4,
 "nbformat_minor": 2
}
