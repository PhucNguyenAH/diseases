{
 "cells": [
  {
   "attachments": {},
   "cell_type": "markdown",
   "metadata": {},
   "source": [
    "# Deep Learning"
   ]
  },
  {
   "cell_type": "code",
   "execution_count": 1,
   "metadata": {},
   "outputs": [
    {
     "name": "stderr",
     "output_type": "stream",
     "text": [
      "/home/hoangphuc/miniconda3/envs/gene/lib/python3.10/site-packages/tqdm/auto.py:22: TqdmWarning: IProgress not found. Please update jupyter and ipywidgets. See https://ipywidgets.readthedocs.io/en/stable/user_install.html\n",
      "  from .autonotebook import tqdm as notebook_tqdm\n"
     ]
    }
   ],
   "source": [
    "import numpy as np\n",
    "import pandas as pd\n",
    "import seaborn as sns\n",
    "import matplotlib.pyplot as plt\n",
    "\n",
    "from models import Six\n",
    "import torch\n",
    "from torch.utils.data import Dataset, DataLoader\n",
    "import onnxruntime as ort"
   ]
  },
  {
   "cell_type": "code",
   "execution_count": 2,
   "metadata": {},
   "outputs": [
    {
     "name": "stdout",
     "output_type": "stream",
     "text": [
      "Load model control or diseases\n",
      "f1 score:  0.850108225108225\n",
      "Exported graph: graph(%gene : Float(1, 8630, strides=[8630, 1], requires_grad=0, device=cuda:0),\n",
      "      %fc1.weight : Float(8192, 8630, strides=[8630, 1], requires_grad=1, device=cuda:0),\n",
      "      %fc1.bias : Float(8192, strides=[1], requires_grad=1, device=cuda:0),\n",
      "      %fc2.weight : Float(2048, 8192, strides=[8192, 1], requires_grad=1, device=cuda:0),\n",
      "      %fc2.bias : Float(2048, strides=[1], requires_grad=1, device=cuda:0),\n",
      "      %fc3.weight : Float(128, 2048, strides=[2048, 1], requires_grad=1, device=cuda:0),\n",
      "      %fc3.bias : Float(128, strides=[1], requires_grad=1, device=cuda:0),\n",
      "      %layer_out.weight : Float(6, 128, strides=[128, 1], requires_grad=1, device=cuda:0),\n",
      "      %layer_out.bias : Float(6, strides=[1], requires_grad=1, device=cuda:0),\n",
      "      %batchnorm1.weight : Float(8192, strides=[1], requires_grad=1, device=cuda:0),\n",
      "      %batchnorm1.bias : Float(8192, strides=[1], requires_grad=1, device=cuda:0),\n",
      "      %batchnorm1.running_mean : Float(8192, strides=[1], requires_grad=0, device=cuda:0),\n",
      "      %batchnorm1.running_var : Float(8192, strides=[1], requires_grad=0, device=cuda:0),\n",
      "      %batchnorm2.weight : Float(2048, strides=[1], requires_grad=1, device=cuda:0),\n",
      "      %batchnorm2.bias : Float(2048, strides=[1], requires_grad=1, device=cuda:0),\n",
      "      %batchnorm2.running_mean : Float(2048, strides=[1], requires_grad=0, device=cuda:0),\n",
      "      %batchnorm2.running_var : Float(2048, strides=[1], requires_grad=0, device=cuda:0),\n",
      "      %batchnorm3.weight : Float(128, strides=[1], requires_grad=1, device=cuda:0),\n",
      "      %batchnorm3.bias : Float(128, strides=[1], requires_grad=1, device=cuda:0),\n",
      "      %batchnorm3.running_mean : Float(128, strides=[1], requires_grad=0, device=cuda:0),\n",
      "      %batchnorm3.running_var : Float(128, strides=[1], requires_grad=0, device=cuda:0)):\n",
      "  %/fc1/Gemm_output_0 : Float(1, 8192, strides=[8192, 1], requires_grad=1, device=cuda:0) = onnx::Gemm[alpha=1., beta=1., transB=1, onnx_name=\"/fc1/Gemm\"](%gene, %fc1.weight, %fc1.bias), scope: models.Six::/torch.nn.modules.linear.Linear::fc1 # /home/hoangphuc/miniconda3/envs/gene/lib/python3.10/site-packages/torch/nn/modules/linear.py:114:0\n",
      "  %/batchnorm1/BatchNormalization_output_0 : Float(1, 8192, strides=[8192, 1], requires_grad=1, device=cuda:0) = onnx::BatchNormalization[epsilon=1.0000000000000001e-05, momentum=0.90000000000000002, training_mode=0, onnx_name=\"/batchnorm1/BatchNormalization\"](%/fc1/Gemm_output_0, %batchnorm1.weight, %batchnorm1.bias, %batchnorm1.running_mean, %batchnorm1.running_var), scope: models.Six::/torch.nn.modules.batchnorm.BatchNorm1d::batchnorm1 # /home/hoangphuc/miniconda3/envs/gene/lib/python3.10/site-packages/torch/nn/functional.py:2435:0\n",
      "  %/Relu_output_0 : Float(1, 8192, strides=[8192, 1], requires_grad=1, device=cuda:0) = onnx::Relu[onnx_name=\"/Relu\"](%/batchnorm1/BatchNormalization_output_0), scope: models.Six:: # /home/hoangphuc/miniconda3/envs/gene/lib/python3.10/site-packages/torch/nn/functional.py:1453:0\n",
      "  %/fc2/Gemm_output_0 : Float(1, 2048, strides=[2048, 1], requires_grad=1, device=cuda:0) = onnx::Gemm[alpha=1., beta=1., transB=1, onnx_name=\"/fc2/Gemm\"](%/Relu_output_0, %fc2.weight, %fc2.bias), scope: models.Six::/torch.nn.modules.linear.Linear::fc2 # /home/hoangphuc/miniconda3/envs/gene/lib/python3.10/site-packages/torch/nn/modules/linear.py:114:0\n",
      "  %/batchnorm2/BatchNormalization_output_0 : Float(1, 2048, strides=[2048, 1], requires_grad=1, device=cuda:0) = onnx::BatchNormalization[epsilon=1.0000000000000001e-05, momentum=0.90000000000000002, training_mode=0, onnx_name=\"/batchnorm2/BatchNormalization\"](%/fc2/Gemm_output_0, %batchnorm2.weight, %batchnorm2.bias, %batchnorm2.running_mean, %batchnorm2.running_var), scope: models.Six::/torch.nn.modules.batchnorm.BatchNorm1d::batchnorm2 # /home/hoangphuc/miniconda3/envs/gene/lib/python3.10/site-packages/torch/nn/functional.py:2435:0\n",
      "  %/Relu_1_output_0 : Float(1, 2048, strides=[2048, 1], requires_grad=1, device=cuda:0) = onnx::Relu[onnx_name=\"/Relu_1\"](%/batchnorm2/BatchNormalization_output_0), scope: models.Six:: # /home/hoangphuc/miniconda3/envs/gene/lib/python3.10/site-packages/torch/nn/functional.py:1453:0\n",
      "  %/fc3/Gemm_output_0 : Float(1, 128, strides=[128, 1], requires_grad=1, device=cuda:0) = onnx::Gemm[alpha=1., beta=1., transB=1, onnx_name=\"/fc3/Gemm\"](%/Relu_1_output_0, %fc3.weight, %fc3.bias), scope: models.Six::/torch.nn.modules.linear.Linear::fc3 # /home/hoangphuc/miniconda3/envs/gene/lib/python3.10/site-packages/torch/nn/modules/linear.py:114:0\n",
      "  %/batchnorm3/BatchNormalization_output_0 : Float(1, 128, strides=[128, 1], requires_grad=1, device=cuda:0) = onnx::BatchNormalization[epsilon=1.0000000000000001e-05, momentum=0.90000000000000002, training_mode=0, onnx_name=\"/batchnorm3/BatchNormalization\"](%/fc3/Gemm_output_0, %batchnorm3.weight, %batchnorm3.bias, %batchnorm3.running_mean, %batchnorm3.running_var), scope: models.Six::/torch.nn.modules.batchnorm.BatchNorm1d::batchnorm3 # /home/hoangphuc/miniconda3/envs/gene/lib/python3.10/site-packages/torch/nn/functional.py:2435:0\n",
      "  %/Relu_2_output_0 : Float(1, 128, strides=[128, 1], requires_grad=1, device=cuda:0) = onnx::Relu[onnx_name=\"/Relu_2\"](%/batchnorm3/BatchNormalization_output_0), scope: models.Six:: # /home/hoangphuc/miniconda3/envs/gene/lib/python3.10/site-packages/torch/nn/functional.py:1453:0\n",
      "  %/layer_out/Gemm_output_0 : Float(1, 6, strides=[6, 1], requires_grad=1, device=cuda:0) = onnx::Gemm[alpha=1., beta=1., transB=1, onnx_name=\"/layer_out/Gemm\"](%/Relu_2_output_0, %layer_out.weight, %layer_out.bias), scope: models.Six::/torch.nn.modules.linear.Linear::layer_out # /home/hoangphuc/miniconda3/envs/gene/lib/python3.10/site-packages/torch/nn/modules/linear.py:114:0\n",
      "  %result : Float(1, 6, strides=[6, 1], requires_grad=1, device=cuda:0) = onnx::LogSoftmax[axis=-1, onnx_name=\"/LogSoftmax\"](%/layer_out/Gemm_output_0), scope: models.Six:: # /home/hoangphuc/miniconda3/envs/gene/lib/python3.10/site-packages/torch/nn/functional.py:1927:0\n",
      "  return (%result)\n",
      "\n"
     ]
    }
   ],
   "source": [
    "checkpoint = \"checkpoints/ckp_six.pt\"\n",
    "checkpoint_bin = \"checkpoints/ckp_six_last.pt\"\n",
    "model = Six()\n",
    "checkpoint_dict = torch.load(checkpoint, map_location='cpu')\n",
    "print(\"Load model control or diseases\")\n",
    "model.load_state_dict(checkpoint_dict['net'])\n",
    "model.to('cuda:0')\n",
    "print(\"f1 score: \", checkpoint_dict['f1'])\n",
    "\n",
    "input_names = [\"gene\"]\n",
    "output_names = [\"result\"]\n",
    "dummy = torch.randn(1,8630, device='cuda')\n",
    "model.eval()\n",
    "torch.onnx.export(model, dummy, \"checkpoints/Six.onnx\", input_names=input_names, output_names=output_names, verbose=True)"
   ]
  },
  {
   "cell_type": "code",
   "execution_count": 3,
   "metadata": {},
   "outputs": [
    {
     "name": "stderr",
     "output_type": "stream",
     "text": [
      "/home/hoangphuc/miniconda3/envs/gene/lib/python3.10/site-packages/onnxruntime/capi/onnxruntime_inference_collection.py:54: UserWarning: Specified provider 'CUDAExecutionProvider' is not in available provider names.Available providers: 'CPUExecutionProvider'\n",
      "  warnings.warn(\n"
     ]
    }
   ],
   "source": [
    "ckp = \"checkpoints/Six.onnx\"\n",
    "\n",
    "class2idx = {\n",
    "    \"CRC\":0,\n",
    "    \"Control\":1,\n",
    "    \"Lung\":2,\n",
    "    \"Gastric\":3,\n",
    "    \"Liver\":4,\n",
    "    \"Breast\":5\n",
    "}\n",
    "\n",
    "idx2class = {v: k for k, v in class2idx.items()}\n",
    "\n",
    "testloader = []\n",
    "\n",
    "with open('data/val_six.npy', 'rb') as f:\n",
    "    x_test0 = np.load(f)\n",
    "with open('data/val_six_target.npy', 'rb') as f:\n",
    "    y_test0 = np.load(f)\n",
    "\n",
    "with open('data/test_six.npy', 'rb') as f:\n",
    "    x_test1 = np.load(f)\n",
    "with open('data/test_six_target.npy', 'rb') as f:\n",
    "    y_test1 = np.load(f)\n",
    "\n",
    "x_test = np.concatenate([x_test0, x_test1])\n",
    "y_test = np.concatenate([y_test0, y_test1])\n",
    "randomize = np.arange(len(x_test))\n",
    "np.random.shuffle(randomize)\n",
    "x_test = x_test[randomize]\n",
    "y_test = y_test[randomize]\n",
    "\n",
    "x_test = np.array(x_test, np.float32)\n",
    "class ClassifierDataset(Dataset):\n",
    "    \n",
    "    def __init__(self, X_data, y_data):\n",
    "        self.X_data = X_data\n",
    "        self.y_data = y_data\n",
    "        \n",
    "    def __getitem__(self, index):\n",
    "        return self.X_data[index], self.y_data[index]\n",
    "        \n",
    "    def __len__ (self):\n",
    "        return len(self.X_data)\n",
    "\n",
    "\n",
    "test_dataset = ClassifierDataset(torch.from_numpy(x_test).float(), torch.from_numpy(y_test).long())\n",
    "\n",
    "testloader = DataLoader(dataset=test_dataset, batch_size=1)\n",
    "\n",
    "cuda=True\n",
    "providers = ['CUDAExecutionProvider', 'CPUExecutionProvider'] if cuda else ['CPUExecutionProvider']\n",
    "session = ort.InferenceSession(ckp, providers=providers)"
   ]
  },
  {
   "cell_type": "code",
   "execution_count": 4,
   "metadata": {},
   "outputs": [
    {
     "data": {
      "text/plain": [
       "['gene']"
      ]
     },
     "execution_count": 4,
     "metadata": {},
     "output_type": "execute_result"
    }
   ],
   "source": [
    "inname = [i.name for i in session.get_inputs()]\n",
    "inname"
   ]
  },
  {
   "cell_type": "code",
   "execution_count": 5,
   "metadata": {},
   "outputs": [
    {
     "data": {
      "text/plain": [
       "['result']"
      ]
     },
     "execution_count": 5,
     "metadata": {},
     "output_type": "execute_result"
    }
   ],
   "source": [
    "outname = [i.name for i in session.get_outputs()]\n",
    "outname"
   ]
  },
  {
   "cell_type": "code",
   "execution_count": 6,
   "metadata": {},
   "outputs": [
    {
     "name": "stdout",
     "output_type": "stream",
     "text": [
      "[[0.28597075 0.6151032  0.6775692  ... 0.18518262 0.30795324 0.1246049 ]]\n",
      "4\n",
      "result: Liver\n"
     ]
    }
   ],
   "source": [
    "idx = 0\n",
    "x = np.expand_dims(x_test[idx], axis=0)\n",
    "print(x)\n",
    "print(y_test[idx])\n",
    "print(\"result:\", idx2class[y_test[idx]])"
   ]
  },
  {
   "cell_type": "code",
   "execution_count": 7,
   "metadata": {},
   "outputs": [
    {
     "name": "stdout",
     "output_type": "stream",
     "text": [
      "Result:  Liver\n"
     ]
    }
   ],
   "source": [
    "x = np.expand_dims(x_test[idx], axis=0)\n",
    "\n",
    "out = session.run(outname,{'gene':x})\n",
    "result = np.argmax(out)\n",
    "print(\"Result: \",idx2class[result])\n"
   ]
  },
  {
   "attachments": {},
   "cell_type": "markdown",
   "metadata": {},
   "source": [
    "# Machine Learning"
   ]
  },
  {
   "cell_type": "code",
   "execution_count": 8,
   "metadata": {},
   "outputs": [],
   "source": [
    "import pickle\n",
    "import numpy as np\n",
    "import pandas as pd\n",
    "import seaborn as sns\n",
    "from sklearn.metrics import accuracy_score, confusion_matrix, classification_report, f1_score"
   ]
  },
  {
   "cell_type": "code",
   "execution_count": 9,
   "metadata": {},
   "outputs": [],
   "source": [
    "# load the model from disk\n",
    "filename = 'checkpoints/ml_svm_six.sav'\n",
    "svm_ = pickle.load(open(filename, 'rb'))\n",
    "filename = 'checkpoints/ml_rf_six.sav'\n",
    "rf = pickle.load(open(filename, 'rb'))\n",
    "filename = 'checkpoints/ml_knn_six.sav'\n",
    "knn = pickle.load(open(filename, 'rb'))\n",
    "\n",
    "class2idx = {\n",
    "    \"CRC\":0,\n",
    "    \"Control\":1,\n",
    "    \"Lung\":2,\n",
    "    \"Gastric\":3,\n",
    "    \"Liver\":4,\n",
    "    \"Breast\":5\n",
    "}\n",
    "\n",
    "idx2class = {v: k for k, v in class2idx.items()}\n",
    "\n",
    "testloader = []\n",
    "\n",
    "with open('data/val_six.npy', 'rb') as f:\n",
    "    x_test0 = np.load(f)\n",
    "with open('data/val_six_target.npy', 'rb') as f:\n",
    "    y_test0 = np.load(f)\n",
    "\n",
    "with open('data/test_six.npy', 'rb') as f:\n",
    "    x_test1 = np.load(f)\n",
    "with open('data/test_six_target.npy', 'rb') as f:\n",
    "    y_test1 = np.load(f)\n",
    "\n",
    "x_test = np.concatenate([x_test0, x_test1])\n",
    "y_test = np.concatenate([y_test0, y_test1])\n",
    "\n",
    "randomize = np.arange(len(x_test))\n",
    "np.random.shuffle(randomize)\n",
    "x_test = x_test[randomize]\n",
    "y_test = y_test[randomize]"
   ]
  },
  {
   "cell_type": "code",
   "execution_count": 42,
   "metadata": {},
   "outputs": [
    {
     "name": "stdout",
     "output_type": "stream",
     "text": [
      "[[0.37333759 0.52708523 0.55567462 ... 0.75800663 0.57523247 0.67382827]]\n",
      "4\n",
      "result: Liver\n"
     ]
    }
   ],
   "source": [
    "idx = 0\n",
    "x = np.expand_dims(x_test[idx], axis=0)\n",
    "print(x)\n",
    "print(y_test[idx])\n",
    "print(\"result:\", idx2class[y_test[idx]])"
   ]
  },
  {
   "cell_type": "code",
   "execution_count": 43,
   "metadata": {},
   "outputs": [
    {
     "name": "stdout",
     "output_type": "stream",
     "text": [
      "Result:  CRC\n"
     ]
    }
   ],
   "source": [
    "x = np.expand_dims(x_test[idx], axis=0)\n",
    "\n",
    "result = svm_.predict(x)[0]\n",
    "print(\"Result: \",idx2class[result])"
   ]
  },
  {
   "cell_type": "code",
   "execution_count": 44,
   "metadata": {},
   "outputs": [
    {
     "name": "stdout",
     "output_type": "stream",
     "text": [
      "Result:  CRC\n"
     ]
    }
   ],
   "source": [
    "x = np.expand_dims(x_test[idx], axis=0)\n",
    "\n",
    "result = rf.predict(x)[0]\n",
    "print(\"Result: \",idx2class[result])"
   ]
  },
  {
   "cell_type": "code",
   "execution_count": 45,
   "metadata": {},
   "outputs": [
    {
     "name": "stdout",
     "output_type": "stream",
     "text": [
      "Result:  CRC\n"
     ]
    }
   ],
   "source": [
    "x = np.expand_dims(x_test[idx], axis=0)\n",
    "\n",
    "result = knn.predict(x)[0]\n",
    "print(\"Result: \",idx2class[result])"
   ]
  },
  {
   "cell_type": "code",
   "execution_count": null,
   "metadata": {},
   "outputs": [],
   "source": []
  }
 ],
 "metadata": {
  "kernelspec": {
   "display_name": "gene",
   "language": "python",
   "name": "python3"
  },
  "language_info": {
   "codemirror_mode": {
    "name": "ipython",
    "version": 3
   },
   "file_extension": ".py",
   "mimetype": "text/x-python",
   "name": "python",
   "nbconvert_exporter": "python",
   "pygments_lexer": "ipython3",
   "version": "3.10.8"
  },
  "orig_nbformat": 4,
  "vscode": {
   "interpreter": {
    "hash": "205c7536512ca85286303e1792d1d7d3dc0c3b1a27495f74475fd2a04bf7c734"
   }
  }
 },
 "nbformat": 4,
 "nbformat_minor": 2
}
